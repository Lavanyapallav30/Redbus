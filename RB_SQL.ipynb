{
 "cells": [
  {
   "cell_type": "code",
   "execution_count": 1,
   "id": "c254d514",
   "metadata": {},
   "outputs": [
    {
     "name": "stdout",
     "output_type": "stream",
     "text": [
      "Requirement already satisfied: mysql-connector-python in /Library/Frameworks/Python.framework/Versions/3.12/lib/python3.12/site-packages (9.2.0)\n"
     ]
    }
   ],
   "source": [
    "!pip install mysql-connector-python"
   ]
  },
  {
   "cell_type": "code",
   "execution_count": 2,
   "id": "e927bcb3",
   "metadata": {},
   "outputs": [],
   "source": [
    "import mysql.connector\n",
    "mydb = mysql.connector.connect(\n",
    "    host = \"localhost\",\n",
    "    user = \"root\",\n",
    "    password = \"\"\n",
    ")\n",
    "mycursor = mydb.cursor(buffered=True)\n"
   ]
  },
  {
   "cell_type": "code",
   "execution_count": 3,
   "id": "6ee78187",
   "metadata": {},
   "outputs": [],
   "source": [
    "mycursor.execute(\"CREATE DATABASE bus_data\")\n"
   ]
  },
  {
   "cell_type": "code",
   "execution_count": 4,
   "id": "5bbb5e10",
   "metadata": {},
   "outputs": [],
   "source": [
    "mycursor.execute(\"USE bus_data\")\n"
   ]
  },
  {
   "cell_type": "code",
   "execution_count": 5,
   "id": "a8ee3449",
   "metadata": {},
   "outputs": [],
   "source": [
    "import pandas as pd\n",
    "RB =pd.read_csv(r'/Users/akash/Desktop/webscrap/Final/cleaned_RB.csv')"
   ]
  },
  {
   "cell_type": "code",
   "execution_count": null,
   "id": "9b06db32",
   "metadata": {},
   "outputs": [],
   "source": [
    "RB"
   ]
  },
  {
   "cell_type": "code",
   "execution_count": 14,
   "id": "6fbf05ae",
   "metadata": {},
   "outputs": [],
   "source": [
    "def inserting_mysql(details):\n",
    "    \"\"\"\n",
    "    Creates a 'bus_details' table and \n",
    "    inserts all scraped bus details into the database.\n",
    "    \"\"\"\n",
    "    try:\n",
    "        # Create table if not exists\n",
    "        mycursor.execute(\"\"\"\n",
    "        CREATE TABLE bus_details (\n",
    "            id INT AUTO_INCREMENT PRIMARY KEY,\n",
    "            route_name TEXT NOT NULL,\n",
    "            route_link TEXT NOT NULL,\n",
    "            bus_name TEXT NOT NULL, \n",
    "            bus_type TEXT NOT NULL,\n",
    "            departing_time TIME,\n",
    "            duration TEXT NOT NULL,\n",
    "            reaching_time TIME,\n",
    "            star_rating FLOAT NULL,\n",
    "            price DECIMAL(10,2) NULL,\n",
    "            seat_availability INT NULL\n",
    "        )\n",
    "        \"\"\")\n",
    "\n",
    "        # Insert each bus route detail\n",
    "        for i in details:\n",
    "            mycursor.execute(\"\"\"\n",
    "            INSERT INTO bus_details (\n",
    "                route_name, route_link,\n",
    "                bus_name, bus_type,\n",
    "                departing_time, duration, reaching_time,\n",
    "                star_rating, price,\n",
    "                seat_availability\n",
    "            ) VALUES (%s,%s,%s,%s,%s,%s,%s,%s,%s,%s)\n",
    "            \"\"\",\n",
    "            (\n",
    "                i['route_name'], i['route_link'],\n",
    "                i['bus_name'], i['bus_type'],\n",
    "                i['departing_time'], i['duration'], i['reaching_time'],\n",
    "                i['star_rating'], i['price'], \n",
    "                i['seat_availability']\n",
    "            )\n",
    "            )\n",
    "        mydb.commit()\n",
    "    except mysql.connector.Error as e:\n",
    "        print(f\"inserting_mysql Error: {e}\")\n",
    "\n",
    "final = RB.to_dict('records')\n",
    "inserting_mysql(final)"
   ]
  }
 ],
 "metadata": {
  "kernelspec": {
   "display_name": "Python 3",
   "language": "python",
   "name": "python3"
  },
  "language_info": {
   "codemirror_mode": {
    "name": "ipython",
    "version": 3
   },
   "file_extension": ".py",
   "mimetype": "text/x-python",
   "name": "python",
   "nbconvert_exporter": "python",
   "pygments_lexer": "ipython3",
   "version": "3.12.2"
  }
 },
 "nbformat": 4,
 "nbformat_minor": 5
}
